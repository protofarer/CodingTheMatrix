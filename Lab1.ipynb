{
 "cells": [
  {
   "attachments": {},
   "cell_type": "markdown",
   "metadata": {},
   "source": [
    "Simple expressions"
   ]
  },
  {
   "cell_type": "code",
   "execution_count": 2,
   "metadata": {},
   "outputs": [
    {
     "data": {
      "text/plain": [
       "49038"
      ]
     },
     "execution_count": 2,
     "metadata": {},
     "output_type": "execute_result"
    }
   ],
   "source": [
    "44+11*4-6/11"
   ]
  },
  {
   "attachments": {},
   "cell_type": "markdown",
   "metadata": {},
   "source": [
    "Find # minutes in a week"
   ]
  },
  {
   "cell_type": "code",
   "execution_count": 4,
   "metadata": {},
   "outputs": [
    {
     "name": "stdout",
     "output_type": "stream",
     "text": [
      "There are 10080 minutes in a week\n"
     ]
    }
   ],
   "source": [
    "# 60 min/hr * 24 hr/day * 7 days/week\n",
    "a = 60 * 24 * 7\n",
    "print(f\"There are {a} minutes in a week\")"
   ]
  },
  {
   "attachments": {},
   "cell_type": "markdown",
   "metadata": {},
   "source": [
    "Calculate remainder of 2304811 divided by 47 w/o using modulus operator (%)"
   ]
  },
  {
   "cell_type": "code",
   "execution_count": 3,
   "metadata": {},
   "outputs": [
    {
     "data": {
      "text/plain": [
       "25"
      ]
     },
     "execution_count": 3,
     "metadata": {},
     "output_type": "execute_result"
    }
   ],
   "source": [
    "2304811 - (2304811 // 47) * 47"
   ]
  },
  {
   "attachments": {},
   "cell_type": "markdown",
   "metadata": {},
   "source": [
    "Use boolean expression to test whether sum of 673 and 909 is divisible by 3"
   ]
  },
  {
   "cell_type": "code",
   "execution_count": 12,
   "metadata": {},
   "outputs": [
    {
     "name": "stdout",
     "output_type": "stream",
     "text": [
      "This expression is not divisible by 3\n"
     ]
    }
   ],
   "source": [
    "print(f\"This expression is {(673 + 909) % 3 != 0 and 'not '}divisible by 3\")\n"
   ]
  },
  {
   "attachments": {},
   "cell_type": "markdown",
   "metadata": {},
   "source": [
    "Q: Assign -9 to x, 1/2 to y. Predict value of this expression and check prediction \"2**(y+1/2) if x+10<0 else 2**(y-1/2)\"\n",
    "\n",
    "A: Should eval to the else expression, which evals to 1"
   ]
  },
  {
   "cell_type": "code",
   "execution_count": 13,
   "metadata": {},
   "outputs": [
    {
     "name": "stdout",
     "output_type": "stream",
     "text": [
      "The expression evaluates to 1.0. I was correct\n"
     ]
    }
   ],
   "source": [
    "x = -9\n",
    "y = 1/2\n",
    "out = 2**(y+1/2) if x+10 < 0 else 2**(y-1/2)\n",
    "print(f\"The expression evaluates to {out}. I was {'correct' if out == 1 else 'incorrect'}\")"
   ]
  },
  {
   "attachments": {},
   "cell_type": "markdown",
   "metadata": {},
   "source": [
    "Task 0.5.5: Write a comprehension over {1, 2, 3, 4, 5} whose value is the set consisting of\n",
    "the squares of the first five positive integers.\n",
    "\n",
    "Task 0.5.6: Write a comprehension over {0, 1, 2, 3, 4} whose value is the set consisting of\n",
    "the first five powers of two, starting with 2^0 ."
   ]
  },
  {
   "cell_type": "code",
   "execution_count": 18,
   "metadata": {},
   "outputs": [
    {
     "name": "stdout",
     "output_type": "stream",
     "text": [
      "{1, 4, 9, 16, 25}\n",
      "{1, 2, 4, 8, 16}\n"
     ]
    }
   ],
   "source": [
    "a = {i**2 for i in range(1,6)}\n",
    "print(a)\n",
    "b = {2**i for i in range(5)}\n",
    "print(b)"
   ]
  },
  {
   "attachments": {},
   "cell_type": "markdown",
   "metadata": {},
   "source": [
    "Task 0.5.7: The value of the previous comprehension,\n",
    "{x*y for x in {1,2,3} for y in {2,3,4}}\n",
    "is a seven-element set. Replace {1,2,3} and {2,3,4} with two other three-element sets\n",
    "so that the value becomes a nine-element set"
   ]
  },
  {
   "cell_type": "code",
   "execution_count": 19,
   "metadata": {},
   "outputs": [
    {
     "name": "stdout",
     "output_type": "stream",
     "text": [
      "The set contains 9 elements\n"
     ]
    }
   ],
   "source": [
    "a = {x*y for x in {1,2,3} for y in {4,5,7}}\n",
    "print(f\"The set contains {len(a)} elements\")"
   ]
  },
  {
   "attachments": {},
   "cell_type": "markdown",
   "metadata": {},
   "source": [
    "Task 0.5.8: Replace {1,2,3} and {2,3,4} in the previous comprehension with two dis-\n",
    "joint (i.e. non-overlapping) three-element sets so that the value becomes a five-element\n",
    "set.\n",
    "\n",
    "Task 0.5.9: Assume that S and T are assigned sets. Without using the intersection oper-\n",
    "ator &, write a comprehension over S whose value is the intersection of S and T. Hint: Use\n",
    "a membership test in a filter at the end of the comprehension.\n",
    "Try out your comprehension with S = {1,2,3,4} and T = {3,4,5,6}."
   ]
  },
  {
   "cell_type": "code",
   "execution_count": 40,
   "metadata": {},
   "outputs": [
    {
     "name": "stdout",
     "output_type": "stream",
     "text": [
      "5\n",
      "{3, 4}\n"
     ]
    }
   ],
   "source": [
    "a = {x*y for x in {0,-1,-2} for y in {1,2,4} if x != y}\n",
    "print(len(a))\n",
    "\n",
    "S = {1,2,3,4}\n",
    "T = {3,4,5,6}\n",
    "b = {i for i in S if i in T}\n",
    "print(b)"
   ]
  },
  {
   "attachments": {},
   "cell_type": "markdown",
   "metadata": {},
   "source": [
    "Task 0.5.10: Write an expression whose value is the average of the elements of the list\n",
    "[20, 10, 15, 75]."
   ]
  },
  {
   "cell_type": "code",
   "execution_count": 41,
   "metadata": {},
   "outputs": [
    {
     "name": "stdout",
     "output_type": "stream",
     "text": [
      "30.0\n"
     ]
    }
   ],
   "source": [
    "a = [20,10,15,75]\n",
    "out = sum(a)/len(a)\n",
    "print(out)"
   ]
  },
  {
   "attachments": {},
   "cell_type": "markdown",
   "metadata": {},
   "source": [
    "Task 0.5.11: Write a double list comprehension over the lists ['A','B','C'] and [1,2,3]\n",
    "whose value is the list of all possible two-element lists [letter, number]. That is, the value\n",
    "is\n",
    "[['A', 1], ['A', 2], ['A', 3], ['B', 1], ['B', 2],['B', 3],\n",
    "['C', 1], ['C', 2], ['C', 3]]"
   ]
  },
  {
   "cell_type": "code",
   "execution_count": 46,
   "metadata": {},
   "outputs": [
    {
     "name": "stdout",
     "output_type": "stream",
     "text": [
      "[['A', 1], ['A', 2], ['A', 3], ['B', 1], ['B', 2], ['B', 3], ['C', 1], ['C', 2], ['C', 3]]\n",
      "[['A', 1], ['B', 1], ['C', 1], ['A', 2], ['B', 2], ['C', 2], ['A', 3], ['B', 3], ['C', 3]]\n"
     ]
    }
   ],
   "source": [
    "a = [[x,y] for x in ['A','B','C'] for y in [1,2,3]]\n",
    "print(a)\n",
    "b = [[x,y] for y in [1,2,3] for x in ['A','B','C']]\n",
    "print(b)"
   ]
  },
  {
   "attachments": {},
   "cell_type": "markdown",
   "metadata": {},
   "source": [
    "Task 0.5.12: Suppose LofL has been assigned a list whose elements are themselves lists\n",
    "of numbers. Write an expression that evaluates to the sum of all the numbers in all the\n",
    "lists. The expression has the form\n",
    "`sum([sum(...`\n",
    "and includes one comprehension. Test your expression after assigning [[.25, .75, .1],\n",
    "[-1, 0], [4, 4, 4, 4]] to LofL. Note that your expression should work for a list of\n",
    "any length."
   ]
  },
  {
   "cell_type": "code",
   "execution_count": 47,
   "metadata": {},
   "outputs": [
    {
     "name": "stdout",
     "output_type": "stream",
     "text": [
      "16.1\n"
     ]
    }
   ],
   "source": [
    "a = [[.25,.75,.1],[-1,0],[4,4,4,4]]\n",
    "out = sum([sum(x) for x in a])\n",
    "print(out)"
   ]
  },
  {
   "attachments": {},
   "cell_type": "markdown",
   "metadata": {},
   "source": [
    "Task 0.5.13: Find out what happens if the length of the left-hand side list does not match\n",
    "the length of the right-hand side list."
   ]
  },
  {
   "cell_type": "code",
   "execution_count": 55,
   "metadata": {},
   "outputs": [
    {
     "ename": "ValueError",
     "evalue": "too many values to unpack (expected 3)",
     "output_type": "error",
     "traceback": [
      "\u001b[0;31m---------------------------------------------------------------------------\u001b[0m",
      "\u001b[0;31mValueError\u001b[0m                                Traceback (most recent call last)",
      "Cell \u001b[0;32mIn[55], line 1\u001b[0m\n\u001b[0;32m----> 1\u001b[0m [a, b, c] \u001b[39m=\u001b[39m [\u001b[39m1\u001b[39m,\u001b[39m2\u001b[39m,\u001b[39m3\u001b[39m,\u001b[39m4\u001b[39m]\n",
      "\u001b[0;31mValueError\u001b[0m: too many values to unpack (expected 3)"
     ]
    }
   ],
   "source": [
    "[a, b, c] = [1,2,3,4]"
   ]
  },
  {
   "attachments": {},
   "cell_type": "markdown",
   "metadata": {},
   "source": [
    "Task 0.5.14: Suppose S is a set of integers, e.g. {-4, -2, 1, 2, 5, 0}. Write a triple\n",
    "comprehension whose value is a list of all three-element tuples (i, j, k) such that i, j, k are\n",
    "elements of S whose sum is zero."
   ]
  },
  {
   "cell_type": "code",
   "execution_count": 58,
   "metadata": {},
   "outputs": [
    {
     "name": "stdout",
     "output_type": "stream",
     "text": [
      "[(0, 0, 0), (0, 2, -2), (0, -2, 2), (1, 1, -2), (1, -2, 1), (2, 0, -2), (2, 2, -4), (2, -4, 2), (2, -2, 0), (-4, 2, 2), (-2, 0, 2), (-2, 1, 1), (-2, 2, 0)]\n"
     ]
    }
   ],
   "source": [
    "S = {-4,-2,1,2,5,0}\n",
    "a = [(i,j,k) for i in S for j in S for k in S if i+j+k == 0 ]# and not any((i == j, i == k, j == k))]\n",
    "print(a)"
   ]
  },
  {
   "cell_type": "markdown",
   "metadata": {},
   "source": [
    "\n",
    "Task 0.5.15: Modify the comprehension of the previous task so that the resulting list does\n",
    "not include (0, 0, 0). Hint: add a filter."
   ]
  },
  {
   "cell_type": "code",
   "execution_count": 59,
   "metadata": {},
   "outputs": [
    {
     "name": "stdout",
     "output_type": "stream",
     "text": [
      "[(0, 2, -2), (0, -2, 2), (1, 1, -2), (1, -2, 1), (2, 0, -2), (2, 2, -4), (2, -4, 2), (2, -2, 0), (-4, 2, 2), (-2, 0, 2), (-2, 1, 1), (-2, 2, 0)]\n"
     ]
    }
   ],
   "source": [
    "a = [(i,j,k) for i in S for j in S for k in S if i+j+k == 0 and not (j == 0 and i == 0 and k == 0) ]# and not any((i == j, i == k, j == k))]\n",
    "print(a)"
   ]
  },
  {
   "attachments": {},
   "cell_type": "markdown",
   "metadata": {},
   "source": [
    "Task 0.5.16: Further modify the expression so that its value is not the list of all such\n",
    "tuples but is the first such tuple."
   ]
  },
  {
   "cell_type": "code",
   "execution_count": 62,
   "metadata": {},
   "outputs": [
    {
     "name": "stdout",
     "output_type": "stream",
     "text": [
      "(0, 2, -2)\n"
     ]
    }
   ],
   "source": [
    "a = [(i,j,k) for i in S for j in S for k in S if i+j+k == 0 and not (j == 0 and i == 0 and k == 0) ][0]\n",
    "print(a)"
   ]
  },
  {
   "attachments": {},
   "cell_type": "markdown",
   "metadata": {},
   "source": [
    "Task 0.5.17: Find an example of a list L such that len(L) and len(list(set(L))) are different."
   ]
  },
  {
   "cell_type": "code",
   "execution_count": 67,
   "metadata": {},
   "outputs": [
    {
     "name": "stdout",
     "output_type": "stream",
     "text": [
      "The specified list L produces evaluations of len(L) and len(list(set(L))) that are different\n"
     ]
    }
   ],
   "source": [
    "L = [0,1,1]\n",
    "isDiff = len(L) != len(list(set(L)))\n",
    "print(f\"The specified list L produces evaluations of len(L) and len(list(set(L))) that are {'the same' if not isDiff else 'different'}\")"
   ]
  },
  {
   "attachments": {},
   "cell_type": "markdown",
   "metadata": {},
   "source": [
    "Task 0.5.18: Write a comprehension over a range of the form range(n) such that the\n",
    "value of the comprehension is the set of odd numbers from 1 to 99."
   ]
  },
  {
   "cell_type": "code",
   "execution_count": 68,
   "metadata": {},
   "outputs": [
    {
     "name": "stdout",
     "output_type": "stream",
     "text": [
      "[1, 3, 5, 7, 9, 11, 13, 15, 17, 19, 21, 23, 25, 27, 29, 31, 33, 35, 37, 39, 41, 43, 45, 47, 49, 51, 53, 55, 57, 59, 61, 63, 65, 67, 69, 71, 73, 75, 77, 79, 81, 83, 85, 87, 89, 91, 93, 95, 97, 99]\n"
     ]
    }
   ],
   "source": [
    "a = [x for x in range(1,100) if x % 2 != 0]\n",
    "print(a)"
   ]
  },
  {
   "attachments": {},
   "cell_type": "markdown",
   "metadata": {},
   "source": [
    "Task 0.5.19: Assign to L the list consisting of the first five letters `['A','B','C','D','E']`.\n",
    "Next, use L in an expression whose value is\n",
    "\n",
    "`[(0, ’A’), (1, ’B’), (2, ’C’), (3, ’D’), (4, ’E’)]`\n",
    "\n",
    "Your expression should use a range and a zip, but should not use a comprehension."
   ]
  },
  {
   "cell_type": "code",
   "execution_count": 71,
   "metadata": {},
   "outputs": [
    {
     "name": "stdout",
     "output_type": "stream",
     "text": [
      "(0, 'A')\n",
      "(1, 'B')\n",
      "(2, 'C')\n",
      "(3, 'D')\n",
      "(4, 'E')\n"
     ]
    }
   ],
   "source": [
    "L = ['A','B','C','D','E']\n",
    "out = zip(range(5), L)\n",
    "for x in out:\n",
    "    print(x)"
   ]
  },
  {
   "attachments": {},
   "cell_type": "markdown",
   "metadata": {},
   "source": [
    "Task 0.5.20: Starting from the lists [10, 25, 40] and [1, 15, 20], write a compre-\n",
    "hension whose value is the three-element list in which the first element is the sum of 10\n",
    "and 1, the second is the sum of 25 and 15, and the third is the sum of 40 and 20. Your\n",
    "expression should use zip but not list."
   ]
  },
  {
   "cell_type": "code",
   "execution_count": 72,
   "metadata": {},
   "outputs": [
    {
     "name": "stdout",
     "output_type": "stream",
     "text": [
      "[11, 40, 60]\n"
     ]
    }
   ],
   "source": [
    "S = [10, 25, 40]\n",
    "T = [1, 15, 20]\n",
    "out = [i + j for (i, j) in zip(S, T)]\n",
    "print(out)"
   ]
  }
 ],
 "metadata": {
  "kernelspec": {
   "display_name": "ctm",
   "language": "python",
   "name": "python3"
  },
  "language_info": {
   "codemirror_mode": {
    "name": "ipython",
    "version": 3
   },
   "file_extension": ".py",
   "mimetype": "text/x-python",
   "name": "python",
   "nbconvert_exporter": "python",
   "pygments_lexer": "ipython3",
   "version": "3.10.9"
  },
  "orig_nbformat": 4
 },
 "nbformat": 4,
 "nbformat_minor": 2
}
