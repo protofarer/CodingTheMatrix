{
 "cells": [
  {
   "attachments": {},
   "cell_type": "markdown",
   "metadata": {},
   "source": [
    "# Python Lab 1"
   ]
  },
  {
   "attachments": {},
   "cell_type": "markdown",
   "metadata": {},
   "source": [
    "Simple expressions"
   ]
  },
  {
   "cell_type": "code",
   "execution_count": 2,
   "metadata": {},
   "outputs": [
    {
     "data": {
      "text/plain": [
       "49038"
      ]
     },
     "execution_count": 2,
     "metadata": {},
     "output_type": "execute_result"
    }
   ],
   "source": [
    "44+11*4-6/11"
   ]
  },
  {
   "attachments": {},
   "cell_type": "markdown",
   "metadata": {},
   "source": [
    "Find # minutes in a week"
   ]
  },
  {
   "cell_type": "code",
   "execution_count": 4,
   "metadata": {},
   "outputs": [
    {
     "name": "stdout",
     "output_type": "stream",
     "text": [
      "There are 10080 minutes in a week\n"
     ]
    }
   ],
   "source": [
    "# 60 min/hr * 24 hr/day * 7 days/week\n",
    "a = 60 * 24 * 7\n",
    "print(f\"There are {a} minutes in a week\")"
   ]
  },
  {
   "attachments": {},
   "cell_type": "markdown",
   "metadata": {},
   "source": [
    "Calculate remainder of 2304811 divided by 47 w/o using modulus operator (%)"
   ]
  },
  {
   "cell_type": "code",
   "execution_count": 3,
   "metadata": {},
   "outputs": [
    {
     "data": {
      "text/plain": [
       "25"
      ]
     },
     "execution_count": 3,
     "metadata": {},
     "output_type": "execute_result"
    }
   ],
   "source": [
    "2304811 - (2304811 // 47) * 47"
   ]
  },
  {
   "attachments": {},
   "cell_type": "markdown",
   "metadata": {},
   "source": [
    "Use boolean expression to test whether sum of 673 and 909 is divisible by 3"
   ]
  },
  {
   "cell_type": "code",
   "execution_count": 12,
   "metadata": {},
   "outputs": [
    {
     "name": "stdout",
     "output_type": "stream",
     "text": [
      "This expression is not divisible by 3\n"
     ]
    }
   ],
   "source": [
    "print(f\"This expression is {(673 + 909) % 3 != 0 and 'not '}divisible by 3\")\n"
   ]
  },
  {
   "attachments": {},
   "cell_type": "markdown",
   "metadata": {},
   "source": [
    "Q: Assign -9 to x, 1/2 to y. Predict value of this expression and check prediction \"2**(y+1/2) if x+10<0 else 2**(y-1/2)\"\n",
    "\n",
    "A: Should eval to the else expression, which evals to 1"
   ]
  },
  {
   "cell_type": "code",
   "execution_count": 13,
   "metadata": {},
   "outputs": [
    {
     "name": "stdout",
     "output_type": "stream",
     "text": [
      "The expression evaluates to 1.0. I was correct\n"
     ]
    }
   ],
   "source": [
    "x = -9\n",
    "y = 1/2\n",
    "out = 2**(y+1/2) if x+10 < 0 else 2**(y-1/2)\n",
    "print(f\"The expression evaluates to {out}. I was {'correct' if out == 1 else 'incorrect'}\")"
   ]
  },
  {
   "attachments": {},
   "cell_type": "markdown",
   "metadata": {},
   "source": [
    "Task 0.5.5: Write a comprehension over {1, 2, 3, 4, 5} whose value is the set consisting of\n",
    "the squares of the first five positive integers.\n",
    "\n",
    "Task 0.5.6: Write a comprehension over {0, 1, 2, 3, 4} whose value is the set consisting of\n",
    "the first five powers of two, starting with 2^0 ."
   ]
  },
  {
   "cell_type": "code",
   "execution_count": 18,
   "metadata": {},
   "outputs": [
    {
     "name": "stdout",
     "output_type": "stream",
     "text": [
      "{1, 4, 9, 16, 25}\n",
      "{1, 2, 4, 8, 16}\n"
     ]
    }
   ],
   "source": [
    "a = {i**2 for i in range(1,6)}\n",
    "print(a)\n",
    "b = {2**i for i in range(5)}\n",
    "print(b)"
   ]
  },
  {
   "attachments": {},
   "cell_type": "markdown",
   "metadata": {},
   "source": [
    "Task 0.5.7: The value of the previous comprehension,\n",
    "{x*y for x in {1,2,3} for y in {2,3,4}}\n",
    "is a seven-element set. Replace {1,2,3} and {2,3,4} with two other three-element sets\n",
    "so that the value becomes a nine-element set"
   ]
  },
  {
   "cell_type": "code",
   "execution_count": 19,
   "metadata": {},
   "outputs": [
    {
     "name": "stdout",
     "output_type": "stream",
     "text": [
      "The set contains 9 elements\n"
     ]
    }
   ],
   "source": [
    "a = {x*y for x in {1,2,3} for y in {4,5,7}}\n",
    "print(f\"The set contains {len(a)} elements\")"
   ]
  },
  {
   "attachments": {},
   "cell_type": "markdown",
   "metadata": {},
   "source": [
    "Task 0.5.8: Replace {1,2,3} and {2,3,4} in the previous comprehension with two dis-\n",
    "joint (i.e. non-overlapping) three-element sets so that the value becomes a five-element\n",
    "set.\n",
    "\n",
    "Task 0.5.9: Assume that S and T are assigned sets. Without using the intersection oper-\n",
    "ator &, write a comprehension over S whose value is the intersection of S and T. Hint: Use\n",
    "a membership test in a filter at the end of the comprehension.\n",
    "Try out your comprehension with S = {1,2,3,4} and T = {3,4,5,6}."
   ]
  },
  {
   "cell_type": "code",
   "execution_count": 40,
   "metadata": {},
   "outputs": [
    {
     "name": "stdout",
     "output_type": "stream",
     "text": [
      "5\n",
      "{3, 4}\n"
     ]
    }
   ],
   "source": [
    "a = {x*y for x in {0,-1,-2} for y in {1,2,4} if x != y}\n",
    "print(len(a))\n",
    "\n",
    "S = {1,2,3,4}\n",
    "T = {3,4,5,6}\n",
    "b = {i for i in S if i in T}\n",
    "print(b)"
   ]
  },
  {
   "attachments": {},
   "cell_type": "markdown",
   "metadata": {},
   "source": [
    "Task 0.5.10: Write an expression whose value is the average of the elements of the list\n",
    "[20, 10, 15, 75]."
   ]
  },
  {
   "cell_type": "code",
   "execution_count": 41,
   "metadata": {},
   "outputs": [
    {
     "name": "stdout",
     "output_type": "stream",
     "text": [
      "30.0\n"
     ]
    }
   ],
   "source": [
    "a = [20,10,15,75]\n",
    "out = sum(a)/len(a)\n",
    "print(out)"
   ]
  },
  {
   "attachments": {},
   "cell_type": "markdown",
   "metadata": {},
   "source": [
    "Task 0.5.11: Write a double list comprehension over the lists ['A','B','C'] and [1,2,3]\n",
    "whose value is the list of all possible two-element lists [letter, number]. That is, the value\n",
    "is\n",
    "[['A', 1], ['A', 2], ['A', 3], ['B', 1], ['B', 2],['B', 3],\n",
    "['C', 1], ['C', 2], ['C', 3]]"
   ]
  },
  {
   "cell_type": "code",
   "execution_count": 46,
   "metadata": {},
   "outputs": [
    {
     "name": "stdout",
     "output_type": "stream",
     "text": [
      "[['A', 1], ['A', 2], ['A', 3], ['B', 1], ['B', 2], ['B', 3], ['C', 1], ['C', 2], ['C', 3]]\n",
      "[['A', 1], ['B', 1], ['C', 1], ['A', 2], ['B', 2], ['C', 2], ['A', 3], ['B', 3], ['C', 3]]\n"
     ]
    }
   ],
   "source": [
    "a = [[x,y] for x in ['A','B','C'] for y in [1,2,3]]\n",
    "print(a)\n",
    "b = [[x,y] for y in [1,2,3] for x in ['A','B','C']]\n",
    "print(b)"
   ]
  },
  {
   "attachments": {},
   "cell_type": "markdown",
   "metadata": {},
   "source": [
    "Task 0.5.12: Suppose LofL has been assigned a list whose elements are themselves lists\n",
    "of numbers. Write an expression that evaluates to the sum of all the numbers in all the\n",
    "lists. The expression has the form\n",
    "`sum([sum(...`\n",
    "and includes one comprehension. Test your expression after assigning [[.25, .75, .1],\n",
    "[-1, 0], [4, 4, 4, 4]] to LofL. Note that your expression should work for a list of\n",
    "any length."
   ]
  },
  {
   "cell_type": "code",
   "execution_count": 47,
   "metadata": {},
   "outputs": [
    {
     "name": "stdout",
     "output_type": "stream",
     "text": [
      "16.1\n"
     ]
    }
   ],
   "source": [
    "a = [[.25,.75,.1],[-1,0],[4,4,4,4]]\n",
    "out = sum([sum(x) for x in a])\n",
    "print(out)"
   ]
  },
  {
   "attachments": {},
   "cell_type": "markdown",
   "metadata": {},
   "source": [
    "Task 0.5.13: Find out what happens if the length of the left-hand side list does not match\n",
    "the length of the right-hand side list."
   ]
  },
  {
   "cell_type": "code",
   "execution_count": 55,
   "metadata": {},
   "outputs": [
    {
     "ename": "ValueError",
     "evalue": "too many values to unpack (expected 3)",
     "output_type": "error",
     "traceback": [
      "\u001b[0;31m---------------------------------------------------------------------------\u001b[0m",
      "\u001b[0;31mValueError\u001b[0m                                Traceback (most recent call last)",
      "Cell \u001b[0;32mIn[55], line 1\u001b[0m\n\u001b[0;32m----> 1\u001b[0m [a, b, c] \u001b[39m=\u001b[39m [\u001b[39m1\u001b[39m,\u001b[39m2\u001b[39m,\u001b[39m3\u001b[39m,\u001b[39m4\u001b[39m]\n",
      "\u001b[0;31mValueError\u001b[0m: too many values to unpack (expected 3)"
     ]
    }
   ],
   "source": [
    "[a, b, c] = [1,2,3,4]"
   ]
  },
  {
   "attachments": {},
   "cell_type": "markdown",
   "metadata": {},
   "source": [
    "Task 0.5.14: Suppose S is a set of integers, e.g. {-4, -2, 1, 2, 5, 0}. Write a triple\n",
    "comprehension whose value is a list of all three-element tuples (i, j, k) such that i, j, k are\n",
    "elements of S whose sum is zero."
   ]
  },
  {
   "cell_type": "code",
   "execution_count": 58,
   "metadata": {},
   "outputs": [
    {
     "name": "stdout",
     "output_type": "stream",
     "text": [
      "[(0, 0, 0), (0, 2, -2), (0, -2, 2), (1, 1, -2), (1, -2, 1), (2, 0, -2), (2, 2, -4), (2, -4, 2), (2, -2, 0), (-4, 2, 2), (-2, 0, 2), (-2, 1, 1), (-2, 2, 0)]\n"
     ]
    }
   ],
   "source": [
    "S = {-4,-2,1,2,5,0}\n",
    "a = [(i,j,k) for i in S for j in S for k in S if i+j+k == 0 ]# and not any((i == j, i == k, j == k))]\n",
    "print(a)"
   ]
  },
  {
   "cell_type": "markdown",
   "metadata": {},
   "source": [
    "\n",
    "Task 0.5.15: Modify the comprehension of the previous task so that the resulting list does\n",
    "not include (0, 0, 0). Hint: add a filter."
   ]
  },
  {
   "cell_type": "code",
   "execution_count": 59,
   "metadata": {},
   "outputs": [
    {
     "name": "stdout",
     "output_type": "stream",
     "text": [
      "[(0, 2, -2), (0, -2, 2), (1, 1, -2), (1, -2, 1), (2, 0, -2), (2, 2, -4), (2, -4, 2), (2, -2, 0), (-4, 2, 2), (-2, 0, 2), (-2, 1, 1), (-2, 2, 0)]\n"
     ]
    }
   ],
   "source": [
    "a = [(i,j,k) for i in S for j in S for k in S if i+j+k == 0 and not (j == 0 and i == 0 and k == 0) ]# and not any((i == j, i == k, j == k))]\n",
    "print(a)"
   ]
  },
  {
   "attachments": {},
   "cell_type": "markdown",
   "metadata": {},
   "source": [
    "Task 0.5.16: Further modify the expression so that its value is not the list of all such\n",
    "tuples but is the first such tuple."
   ]
  },
  {
   "cell_type": "code",
   "execution_count": 62,
   "metadata": {},
   "outputs": [
    {
     "name": "stdout",
     "output_type": "stream",
     "text": [
      "(0, 2, -2)\n"
     ]
    }
   ],
   "source": [
    "a = [(i,j,k) for i in S for j in S for k in S if i+j+k == 0 and not (j == 0 and i == 0 and k == 0) ][0]\n",
    "print(a)"
   ]
  },
  {
   "attachments": {},
   "cell_type": "markdown",
   "metadata": {},
   "source": [
    "Task 0.5.17: Find an example of a list L such that len(L) and len(list(set(L))) are different."
   ]
  },
  {
   "cell_type": "code",
   "execution_count": 67,
   "metadata": {},
   "outputs": [
    {
     "name": "stdout",
     "output_type": "stream",
     "text": [
      "The specified list L produces evaluations of len(L) and len(list(set(L))) that are different\n"
     ]
    }
   ],
   "source": [
    "L = [0,1,1]\n",
    "isDiff = len(L) != len(list(set(L)))\n",
    "print(f\"The specified list L produces evaluations of len(L) and len(list(set(L))) that are {'the same' if not isDiff else 'different'}\")"
   ]
  },
  {
   "attachments": {},
   "cell_type": "markdown",
   "metadata": {},
   "source": [
    "Task 0.5.18: Write a comprehension over a range of the form range(n) such that the\n",
    "value of the comprehension is the set of odd numbers from 1 to 99."
   ]
  },
  {
   "cell_type": "code",
   "execution_count": 68,
   "metadata": {},
   "outputs": [
    {
     "name": "stdout",
     "output_type": "stream",
     "text": [
      "[1, 3, 5, 7, 9, 11, 13, 15, 17, 19, 21, 23, 25, 27, 29, 31, 33, 35, 37, 39, 41, 43, 45, 47, 49, 51, 53, 55, 57, 59, 61, 63, 65, 67, 69, 71, 73, 75, 77, 79, 81, 83, 85, 87, 89, 91, 93, 95, 97, 99]\n"
     ]
    }
   ],
   "source": [
    "a = [x for x in range(1,100) if x % 2 != 0]\n",
    "print(a)"
   ]
  },
  {
   "attachments": {},
   "cell_type": "markdown",
   "metadata": {},
   "source": [
    "Task 0.5.19: Assign to L the list consisting of the first five letters `['A','B','C','D','E']`.\n",
    "Next, use L in an expression whose value is\n",
    "\n",
    "`[(0, ’A’), (1, ’B’), (2, ’C’), (3, ’D’), (4, ’E’)]`\n",
    "\n",
    "Your expression should use a range and a zip, but should not use a comprehension."
   ]
  },
  {
   "cell_type": "code",
   "execution_count": 71,
   "metadata": {},
   "outputs": [
    {
     "name": "stdout",
     "output_type": "stream",
     "text": [
      "(0, 'A')\n",
      "(1, 'B')\n",
      "(2, 'C')\n",
      "(3, 'D')\n",
      "(4, 'E')\n"
     ]
    }
   ],
   "source": [
    "L = ['A','B','C','D','E']\n",
    "out = zip(range(5), L)\n",
    "for x in out:\n",
    "    print(x)"
   ]
  },
  {
   "attachments": {},
   "cell_type": "markdown",
   "metadata": {},
   "source": [
    "Task 0.5.20: Starting from the lists [10, 25, 40] and [1, 15, 20], write a compre-\n",
    "hension whose value is the three-element list in which the first element is the sum of 10\n",
    "and 1, the second is the sum of 25 and 15, and the third is the sum of 40 and 20. Your\n",
    "expression should use zip but not list."
   ]
  },
  {
   "cell_type": "code",
   "execution_count": 72,
   "metadata": {},
   "outputs": [
    {
     "name": "stdout",
     "output_type": "stream",
     "text": [
      "[11, 40, 60]\n"
     ]
    }
   ],
   "source": [
    "S = [10, 25, 40]\n",
    "T = [1, 15, 20]\n",
    "out = [i + j for (i, j) in zip(S, T)]\n",
    "print(out)"
   ]
  },
  {
   "attachments": {},
   "cell_type": "markdown",
   "metadata": {},
   "source": [
    "Task 0.5.21: Suppose dlist is a list of dictionaries and k is a key that appears in all the dictionaries in dlist. Write a comprehension that evaluates to the list whose i th element is the value corresponding to key k in the i th dictionary in dlist. Test your comprehension with some data. Here are some example data.\n",
    "```\n",
    "dlist = [{'James':'Sean', 'director':'Terence'}, {'James':'Roger', 'director':'Lewis'}, {'James':'Pierce', 'director':'Roger'}]\n",
    "k = 'James'\n",
    "```"
   ]
  },
  {
   "cell_type": "code",
   "execution_count": 73,
   "metadata": {},
   "outputs": [
    {
     "name": "stdout",
     "output_type": "stream",
     "text": [
      "['Sean', 'Roger', 'Pierce']\n"
     ]
    }
   ],
   "source": [
    "dlist = [{'James':'Sean', 'director':'Terence'}, {'James':'Roger', 'director':'Lewis'}, {'James':'Pierce', 'director':'Roger'}]\n",
    "k = 'James'\n",
    "out = [d[k] for d in dlist]\n",
    "print(out)"
   ]
  },
  {
   "attachments": {},
   "cell_type": "markdown",
   "metadata": {},
   "source": [
    "Task 0.5.22: Modify the comprehension in Task 0.5.21 to handle the case in which k\n",
    "might not appear in all the dictionaries. The comprehension evaluates to the list whose i th\n",
    "element is the value corresponding to key k in the i th dictionary in dlist if that dictionary\n",
    "contains that key, and 'NOT PRESENT' otherwise.\n",
    "Test your comprehension with k = 'Bilbo' and k = 'Frodo' and with the following\n",
    "list of dictionaries:\n",
    "`dlist = [{'Bilbo':'Ian','Frodo':'Elijah'},{'Bilbo':'Martin','Thorin':'Richard'}]`"
   ]
  },
  {
   "cell_type": "code",
   "execution_count": 74,
   "metadata": {},
   "outputs": [
    {
     "name": "stdout",
     "output_type": "stream",
     "text": [
      "['Ian', 'Martin']\n",
      "['Elijah', 'NOT PRESENT']\n"
     ]
    }
   ],
   "source": [
    "dlist = [{'Bilbo':'Ian','Frodo':'Elijah'},{'Bilbo':'Martin','Thorin':'Richard'}]\n",
    "k = 'Bilbo'\n",
    "out = [d[k] if k in d else 'NOT PRESENT' for d in dlist]\n",
    "print(out)\n",
    "k = 'Frodo'\n",
    "out = [d[k] if k in d else 'NOT PRESENT' for d in dlist]\n",
    "print(out)"
   ]
  },
  {
   "attachments": {},
   "cell_type": "markdown",
   "metadata": {},
   "source": [
    "Task 0.5.23: Using range, write a comprehension whose value is a dictionary. The keys\n",
    "should be the integers from 0 to 99 and the value corresponding to a key should be the\n",
    "square of the key."
   ]
  },
  {
   "cell_type": "code",
   "execution_count": 76,
   "metadata": {},
   "outputs": [
    {
     "name": "stdout",
     "output_type": "stream",
     "text": [
      "{0: 0, 1: 1, 2: 4, 3: 9, 4: 16, 5: 25, 6: 36, 7: 49, 8: 64, 9: 81, 10: 100, 11: 121, 12: 144, 13: 169, 14: 196, 15: 225, 16: 256, 17: 289, 18: 324, 19: 361, 20: 400, 21: 441, 22: 484, 23: 529, 24: 576, 25: 625, 26: 676, 27: 729, 28: 784, 29: 841, 30: 900, 31: 961, 32: 1024, 33: 1089, 34: 1156, 35: 1225, 36: 1296, 37: 1369, 38: 1444, 39: 1521, 40: 1600, 41: 1681, 42: 1764, 43: 1849, 44: 1936, 45: 2025, 46: 2116, 47: 2209, 48: 2304, 49: 2401, 50: 2500, 51: 2601, 52: 2704, 53: 2809, 54: 2916, 55: 3025, 56: 3136, 57: 3249, 58: 3364, 59: 3481, 60: 3600, 61: 3721, 62: 3844, 63: 3969, 64: 4096, 65: 4225, 66: 4356, 67: 4489, 68: 4624, 69: 4761, 70: 4900, 71: 5041, 72: 5184, 73: 5329, 74: 5476, 75: 5625, 76: 5776, 77: 5929, 78: 6084, 79: 6241, 80: 6400, 81: 6561, 82: 6724, 83: 6889, 84: 7056, 85: 7225, 86: 7396, 87: 7569, 88: 7744, 89: 7921, 90: 8100, 91: 8281, 92: 8464, 93: 8649, 94: 8836, 95: 9025, 96: 9216, 97: 9409, 98: 9604, 99: 9801}\n",
      "400\n"
     ]
    }
   ],
   "source": [
    "d = {k:k**2 for k in range(100)}\n",
    "print(d)"
   ]
  },
  {
   "attachments": {},
   "cell_type": "markdown",
   "metadata": {},
   "source": [
    "Task 0.5.24: Assign some set to the variable D, e.g. D ={'red','white','blue'}.\n",
    "Now write a comprehension that evaluates to a dictionary that represents the identity\n",
    "function on D."
   ]
  },
  {
   "cell_type": "code",
   "execution_count": 77,
   "metadata": {},
   "outputs": [
    {
     "name": "stdout",
     "output_type": "stream",
     "text": [
      "{'white': 'white', 'blue': 'blue', 'red': 'red'}\n"
     ]
    }
   ],
   "source": [
    "D={'red','white','blue'}\n",
    "ident = {k:k for k in D}\n",
    "print(ident)"
   ]
  },
  {
   "attachments": {},
   "cell_type": "markdown",
   "metadata": {},
   "source": [
    "Task 0.5.25: Using the variables `base=10` and `digits=set(range(base))`, write a dic-\n",
    "tionary comprehension that maps each integer between zero and nine hundred ninety nine\n",
    "to the list of three digits that represents that integer in base 10. That is, the value should be\n",
    "```\n",
    "{0: [0, 0, 0], 1: [0, 0, 1], 2: [0, 0, 2], 3: [0, 0, 3], ...,\n",
    "10: [0, 1, 0], 11: [0, 1, 1], 12: [0, 1, 2], ...,\n",
    "999: [9, 9, 9]}\n",
    "```\n",
    "Your expression should work for any base. For example, if you instead assign 2 to base and\n",
    "assign {0,1} to digits, the value should be\n",
    "```\n",
    "{0: [0, 0, 0], 1: [0, 0, 1], 2: [0, 1, 0], 3: [0, 1, 1],\n",
    "..., 7: [1, 1, 1]}\n",
    "```"
   ]
  },
  {
   "cell_type": "code",
   "execution_count": 90,
   "metadata": {},
   "outputs": [
    {
     "name": "stdout",
     "output_type": "stream",
     "text": [
      "{0: [0, 0, 0], 1: [0, 0, 1], 2: [0, 0, 2], 3: [0, 0, 3], 4: [0, 0, 4], 5: [0, 0, 5], 6: [0, 0, 6], 7: [0, 0, 7], 8: [0, 0, 8], 9: [0, 0, 9], 10: [0, 1, 0], 11: [0, 1, 1], 12: [0, 1, 2], 13: [0, 1, 3], 14: [0, 1, 4], 15: [0, 1, 5], 16: [0, 1, 6], 17: [0, 1, 7], 18: [0, 1, 8], 19: [0, 1, 9], 20: [0, 2, 0], 21: [0, 2, 1], 22: [0, 2, 2], 23: [0, 2, 3], 24: [0, 2, 4], 25: [0, 2, 5], 26: [0, 2, 6], 27: [0, 2, 7], 28: [0, 2, 8], 29: [0, 2, 9], 30: [0, 3, 0], 31: [0, 3, 1], 32: [0, 3, 2], 33: [0, 3, 3], 34: [0, 3, 4], 35: [0, 3, 5], 36: [0, 3, 6], 37: [0, 3, 7], 38: [0, 3, 8], 39: [0, 3, 9], 40: [0, 4, 0], 41: [0, 4, 1], 42: [0, 4, 2], 43: [0, 4, 3], 44: [0, 4, 4], 45: [0, 4, 5], 46: [0, 4, 6], 47: [0, 4, 7], 48: [0, 4, 8], 49: [0, 4, 9], 50: [0, 5, 0], 51: [0, 5, 1], 52: [0, 5, 2], 53: [0, 5, 3], 54: [0, 5, 4], 55: [0, 5, 5], 56: [0, 5, 6], 57: [0, 5, 7], 58: [0, 5, 8], 59: [0, 5, 9], 60: [0, 6, 0], 61: [0, 6, 1], 62: [0, 6, 2], 63: [0, 6, 3], 64: [0, 6, 4], 65: [0, 6, 5], 66: [0, 6, 6], 67: [0, 6, 7], 68: [0, 6, 8], 69: [0, 6, 9], 70: [0, 7, 0], 71: [0, 7, 1], 72: [0, 7, 2], 73: [0, 7, 3], 74: [0, 7, 4], 75: [0, 7, 5], 76: [0, 7, 6], 77: [0, 7, 7], 78: [0, 7, 8], 79: [0, 7, 9], 80: [0, 8, 0], 81: [0, 8, 1], 82: [0, 8, 2], 83: [0, 8, 3], 84: [0, 8, 4], 85: [0, 8, 5], 86: [0, 8, 6], 87: [0, 8, 7], 88: [0, 8, 8], 89: [0, 8, 9], 90: [0, 9, 0], 91: [0, 9, 1], 92: [0, 9, 2], 93: [0, 9, 3], 94: [0, 9, 4], 95: [0, 9, 5], 96: [0, 9, 6], 97: [0, 9, 7], 98: [0, 9, 8], 99: [0, 9, 9], 100: [1, 0, 0], 101: [1, 0, 1], 102: [1, 0, 2], 103: [1, 0, 3], 104: [1, 0, 4], 105: [1, 0, 5], 106: [1, 0, 6], 107: [1, 0, 7], 108: [1, 0, 8], 109: [1, 0, 9], 110: [1, 1, 0], 111: [1, 1, 1], 112: [1, 1, 2], 113: [1, 1, 3], 114: [1, 1, 4], 115: [1, 1, 5], 116: [1, 1, 6], 117: [1, 1, 7], 118: [1, 1, 8], 119: [1, 1, 9], 120: [1, 2, 0], 121: [1, 2, 1], 122: [1, 2, 2], 123: [1, 2, 3], 124: [1, 2, 4], 125: [1, 2, 5], 126: [1, 2, 6], 127: [1, 2, 7], 128: [1, 2, 8], 129: [1, 2, 9], 130: [1, 3, 0], 131: [1, 3, 1], 132: [1, 3, 2], 133: [1, 3, 3], 134: [1, 3, 4], 135: [1, 3, 5], 136: [1, 3, 6], 137: [1, 3, 7], 138: [1, 3, 8], 139: [1, 3, 9], 140: [1, 4, 0], 141: [1, 4, 1], 142: [1, 4, 2], 143: [1, 4, 3], 144: [1, 4, 4], 145: [1, 4, 5], 146: [1, 4, 6], 147: [1, 4, 7], 148: [1, 4, 8], 149: [1, 4, 9], 150: [1, 5, 0], 151: [1, 5, 1], 152: [1, 5, 2], 153: [1, 5, 3], 154: [1, 5, 4], 155: [1, 5, 5], 156: [1, 5, 6], 157: [1, 5, 7], 158: [1, 5, 8], 159: [1, 5, 9], 160: [1, 6, 0], 161: [1, 6, 1], 162: [1, 6, 2], 163: [1, 6, 3], 164: [1, 6, 4], 165: [1, 6, 5], 166: [1, 6, 6], 167: [1, 6, 7], 168: [1, 6, 8], 169: [1, 6, 9], 170: [1, 7, 0], 171: [1, 7, 1], 172: [1, 7, 2], 173: [1, 7, 3], 174: [1, 7, 4], 175: [1, 7, 5], 176: [1, 7, 6], 177: [1, 7, 7], 178: [1, 7, 8], 179: [1, 7, 9], 180: [1, 8, 0], 181: [1, 8, 1], 182: [1, 8, 2], 183: [1, 8, 3], 184: [1, 8, 4], 185: [1, 8, 5], 186: [1, 8, 6], 187: [1, 8, 7], 188: [1, 8, 8], 189: [1, 8, 9], 190: [1, 9, 0], 191: [1, 9, 1], 192: [1, 9, 2], 193: [1, 9, 3], 194: [1, 9, 4], 195: [1, 9, 5], 196: [1, 9, 6], 197: [1, 9, 7], 198: [1, 9, 8], 199: [1, 9, 9], 200: [2, 0, 0], 201: [2, 0, 1], 202: [2, 0, 2], 203: [2, 0, 3], 204: [2, 0, 4], 205: [2, 0, 5], 206: [2, 0, 6], 207: [2, 0, 7], 208: [2, 0, 8], 209: [2, 0, 9], 210: [2, 1, 0], 211: [2, 1, 1], 212: [2, 1, 2], 213: [2, 1, 3], 214: [2, 1, 4], 215: [2, 1, 5], 216: [2, 1, 6], 217: [2, 1, 7], 218: [2, 1, 8], 219: [2, 1, 9], 220: [2, 2, 0], 221: [2, 2, 1], 222: [2, 2, 2], 223: [2, 2, 3], 224: [2, 2, 4], 225: [2, 2, 5], 226: [2, 2, 6], 227: [2, 2, 7], 228: [2, 2, 8], 229: [2, 2, 9], 230: [2, 3, 0], 231: [2, 3, 1], 232: [2, 3, 2], 233: [2, 3, 3], 234: [2, 3, 4], 235: [2, 3, 5], 236: [2, 3, 6], 237: [2, 3, 7], 238: [2, 3, 8], 239: [2, 3, 9], 240: [2, 4, 0], 241: [2, 4, 1], 242: [2, 4, 2], 243: [2, 4, 3], 244: [2, 4, 4], 245: [2, 4, 5], 246: [2, 4, 6], 247: [2, 4, 7], 248: [2, 4, 8], 249: [2, 4, 9], 250: [2, 5, 0], 251: [2, 5, 1], 252: [2, 5, 2], 253: [2, 5, 3], 254: [2, 5, 4], 255: [2, 5, 5], 256: [2, 5, 6], 257: [2, 5, 7], 258: [2, 5, 8], 259: [2, 5, 9], 260: [2, 6, 0], 261: [2, 6, 1], 262: [2, 6, 2], 263: [2, 6, 3], 264: [2, 6, 4], 265: [2, 6, 5], 266: [2, 6, 6], 267: [2, 6, 7], 268: [2, 6, 8], 269: [2, 6, 9], 270: [2, 7, 0], 271: [2, 7, 1], 272: [2, 7, 2], 273: [2, 7, 3], 274: [2, 7, 4], 275: [2, 7, 5], 276: [2, 7, 6], 277: [2, 7, 7], 278: [2, 7, 8], 279: [2, 7, 9], 280: [2, 8, 0], 281: [2, 8, 1], 282: [2, 8, 2], 283: [2, 8, 3], 284: [2, 8, 4], 285: [2, 8, 5], 286: [2, 8, 6], 287: [2, 8, 7], 288: [2, 8, 8], 289: [2, 8, 9], 290: [2, 9, 0], 291: [2, 9, 1], 292: [2, 9, 2], 293: [2, 9, 3], 294: [2, 9, 4], 295: [2, 9, 5], 296: [2, 9, 6], 297: [2, 9, 7], 298: [2, 9, 8], 299: [2, 9, 9], 300: [3, 0, 0], 301: [3, 0, 1], 302: [3, 0, 2], 303: [3, 0, 3], 304: [3, 0, 4], 305: [3, 0, 5], 306: [3, 0, 6], 307: [3, 0, 7], 308: [3, 0, 8], 309: [3, 0, 9], 310: [3, 1, 0], 311: [3, 1, 1], 312: [3, 1, 2], 313: [3, 1, 3], 314: [3, 1, 4], 315: [3, 1, 5], 316: [3, 1, 6], 317: [3, 1, 7], 318: [3, 1, 8], 319: [3, 1, 9], 320: [3, 2, 0], 321: [3, 2, 1], 322: [3, 2, 2], 323: [3, 2, 3], 324: [3, 2, 4], 325: [3, 2, 5], 326: [3, 2, 6], 327: [3, 2, 7], 328: [3, 2, 8], 329: [3, 2, 9], 330: [3, 3, 0], 331: [3, 3, 1], 332: [3, 3, 2], 333: [3, 3, 3], 334: [3, 3, 4], 335: [3, 3, 5], 336: [3, 3, 6], 337: [3, 3, 7], 338: [3, 3, 8], 339: [3, 3, 9], 340: [3, 4, 0], 341: [3, 4, 1], 342: [3, 4, 2], 343: [3, 4, 3], 344: [3, 4, 4], 345: [3, 4, 5], 346: [3, 4, 6], 347: [3, 4, 7], 348: [3, 4, 8], 349: [3, 4, 9], 350: [3, 5, 0], 351: [3, 5, 1], 352: [3, 5, 2], 353: [3, 5, 3], 354: [3, 5, 4], 355: [3, 5, 5], 356: [3, 5, 6], 357: [3, 5, 7], 358: [3, 5, 8], 359: [3, 5, 9], 360: [3, 6, 0], 361: [3, 6, 1], 362: [3, 6, 2], 363: [3, 6, 3], 364: [3, 6, 4], 365: [3, 6, 5], 366: [3, 6, 6], 367: [3, 6, 7], 368: [3, 6, 8], 369: [3, 6, 9], 370: [3, 7, 0], 371: [3, 7, 1], 372: [3, 7, 2], 373: [3, 7, 3], 374: [3, 7, 4], 375: [3, 7, 5], 376: [3, 7, 6], 377: [3, 7, 7], 378: [3, 7, 8], 379: [3, 7, 9], 380: [3, 8, 0], 381: [3, 8, 1], 382: [3, 8, 2], 383: [3, 8, 3], 384: [3, 8, 4], 385: [3, 8, 5], 386: [3, 8, 6], 387: [3, 8, 7], 388: [3, 8, 8], 389: [3, 8, 9], 390: [3, 9, 0], 391: [3, 9, 1], 392: [3, 9, 2], 393: [3, 9, 3], 394: [3, 9, 4], 395: [3, 9, 5], 396: [3, 9, 6], 397: [3, 9, 7], 398: [3, 9, 8], 399: [3, 9, 9], 400: [4, 0, 0], 401: [4, 0, 1], 402: [4, 0, 2], 403: [4, 0, 3], 404: [4, 0, 4], 405: [4, 0, 5], 406: [4, 0, 6], 407: [4, 0, 7], 408: [4, 0, 8], 409: [4, 0, 9], 410: [4, 1, 0], 411: [4, 1, 1], 412: [4, 1, 2], 413: [4, 1, 3], 414: [4, 1, 4], 415: [4, 1, 5], 416: [4, 1, 6], 417: [4, 1, 7], 418: [4, 1, 8], 419: [4, 1, 9], 420: [4, 2, 0], 421: [4, 2, 1], 422: [4, 2, 2], 423: [4, 2, 3], 424: [4, 2, 4], 425: [4, 2, 5], 426: [4, 2, 6], 427: [4, 2, 7], 428: [4, 2, 8], 429: [4, 2, 9], 430: [4, 3, 0], 431: [4, 3, 1], 432: [4, 3, 2], 433: [4, 3, 3], 434: [4, 3, 4], 435: [4, 3, 5], 436: [4, 3, 6], 437: [4, 3, 7], 438: [4, 3, 8], 439: [4, 3, 9], 440: [4, 4, 0], 441: [4, 4, 1], 442: [4, 4, 2], 443: [4, 4, 3], 444: [4, 4, 4], 445: [4, 4, 5], 446: [4, 4, 6], 447: [4, 4, 7], 448: [4, 4, 8], 449: [4, 4, 9], 450: [4, 5, 0], 451: [4, 5, 1], 452: [4, 5, 2], 453: [4, 5, 3], 454: [4, 5, 4], 455: [4, 5, 5], 456: [4, 5, 6], 457: [4, 5, 7], 458: [4, 5, 8], 459: [4, 5, 9], 460: [4, 6, 0], 461: [4, 6, 1], 462: [4, 6, 2], 463: [4, 6, 3], 464: [4, 6, 4], 465: [4, 6, 5], 466: [4, 6, 6], 467: [4, 6, 7], 468: [4, 6, 8], 469: [4, 6, 9], 470: [4, 7, 0], 471: [4, 7, 1], 472: [4, 7, 2], 473: [4, 7, 3], 474: [4, 7, 4], 475: [4, 7, 5], 476: [4, 7, 6], 477: [4, 7, 7], 478: [4, 7, 8], 479: [4, 7, 9], 480: [4, 8, 0], 481: [4, 8, 1], 482: [4, 8, 2], 483: [4, 8, 3], 484: [4, 8, 4], 485: [4, 8, 5], 486: [4, 8, 6], 487: [4, 8, 7], 488: [4, 8, 8], 489: [4, 8, 9], 490: [4, 9, 0], 491: [4, 9, 1], 492: [4, 9, 2], 493: [4, 9, 3], 494: [4, 9, 4], 495: [4, 9, 5], 496: [4, 9, 6], 497: [4, 9, 7], 498: [4, 9, 8], 499: [4, 9, 9], 500: [5, 0, 0], 501: [5, 0, 1], 502: [5, 0, 2], 503: [5, 0, 3], 504: [5, 0, 4], 505: [5, 0, 5], 506: [5, 0, 6], 507: [5, 0, 7], 508: [5, 0, 8], 509: [5, 0, 9], 510: [5, 1, 0], 511: [5, 1, 1], 512: [5, 1, 2], 513: [5, 1, 3], 514: [5, 1, 4], 515: [5, 1, 5], 516: [5, 1, 6], 517: [5, 1, 7], 518: [5, 1, 8], 519: [5, 1, 9], 520: [5, 2, 0], 521: [5, 2, 1], 522: [5, 2, 2], 523: [5, 2, 3], 524: [5, 2, 4], 525: [5, 2, 5], 526: [5, 2, 6], 527: [5, 2, 7], 528: [5, 2, 8], 529: [5, 2, 9], 530: [5, 3, 0], 531: [5, 3, 1], 532: [5, 3, 2], 533: [5, 3, 3], 534: [5, 3, 4], 535: [5, 3, 5], 536: [5, 3, 6], 537: [5, 3, 7], 538: [5, 3, 8], 539: [5, 3, 9], 540: [5, 4, 0], 541: [5, 4, 1], 542: [5, 4, 2], 543: [5, 4, 3], 544: [5, 4, 4], 545: [5, 4, 5], 546: [5, 4, 6], 547: [5, 4, 7], 548: [5, 4, 8], 549: [5, 4, 9], 550: [5, 5, 0], 551: [5, 5, 1], 552: [5, 5, 2], 553: [5, 5, 3], 554: [5, 5, 4], 555: [5, 5, 5], 556: [5, 5, 6], 557: [5, 5, 7], 558: [5, 5, 8], 559: [5, 5, 9], 560: [5, 6, 0], 561: [5, 6, 1], 562: [5, 6, 2], 563: [5, 6, 3], 564: [5, 6, 4], 565: [5, 6, 5], 566: [5, 6, 6], 567: [5, 6, 7], 568: [5, 6, 8], 569: [5, 6, 9], 570: [5, 7, 0], 571: [5, 7, 1], 572: [5, 7, 2], 573: [5, 7, 3], 574: [5, 7, 4], 575: [5, 7, 5], 576: [5, 7, 6], 577: [5, 7, 7], 578: [5, 7, 8], 579: [5, 7, 9], 580: [5, 8, 0], 581: [5, 8, 1], 582: [5, 8, 2], 583: [5, 8, 3], 584: [5, 8, 4], 585: [5, 8, 5], 586: [5, 8, 6], 587: [5, 8, 7], 588: [5, 8, 8], 589: [5, 8, 9], 590: [5, 9, 0], 591: [5, 9, 1], 592: [5, 9, 2], 593: [5, 9, 3], 594: [5, 9, 4], 595: [5, 9, 5], 596: [5, 9, 6], 597: [5, 9, 7], 598: [5, 9, 8], 599: [5, 9, 9], 600: [6, 0, 0], 601: [6, 0, 1], 602: [6, 0, 2], 603: [6, 0, 3], 604: [6, 0, 4], 605: [6, 0, 5], 606: [6, 0, 6], 607: [6, 0, 7], 608: [6, 0, 8], 609: [6, 0, 9], 610: [6, 1, 0], 611: [6, 1, 1], 612: [6, 1, 2], 613: [6, 1, 3], 614: [6, 1, 4], 615: [6, 1, 5], 616: [6, 1, 6], 617: [6, 1, 7], 618: [6, 1, 8], 619: [6, 1, 9], 620: [6, 2, 0], 621: [6, 2, 1], 622: [6, 2, 2], 623: [6, 2, 3], 624: [6, 2, 4], 625: [6, 2, 5], 626: [6, 2, 6], 627: [6, 2, 7], 628: [6, 2, 8], 629: [6, 2, 9], 630: [6, 3, 0], 631: [6, 3, 1], 632: [6, 3, 2], 633: [6, 3, 3], 634: [6, 3, 4], 635: [6, 3, 5], 636: [6, 3, 6], 637: [6, 3, 7], 638: [6, 3, 8], 639: [6, 3, 9], 640: [6, 4, 0], 641: [6, 4, 1], 642: [6, 4, 2], 643: [6, 4, 3], 644: [6, 4, 4], 645: [6, 4, 5], 646: [6, 4, 6], 647: [6, 4, 7], 648: [6, 4, 8], 649: [6, 4, 9], 650: [6, 5, 0], 651: [6, 5, 1], 652: [6, 5, 2], 653: [6, 5, 3], 654: [6, 5, 4], 655: [6, 5, 5], 656: [6, 5, 6], 657: [6, 5, 7], 658: [6, 5, 8], 659: [6, 5, 9], 660: [6, 6, 0], 661: [6, 6, 1], 662: [6, 6, 2], 663: [6, 6, 3], 664: [6, 6, 4], 665: [6, 6, 5], 666: [6, 6, 6], 667: [6, 6, 7], 668: [6, 6, 8], 669: [6, 6, 9], 670: [6, 7, 0], 671: [6, 7, 1], 672: [6, 7, 2], 673: [6, 7, 3], 674: [6, 7, 4], 675: [6, 7, 5], 676: [6, 7, 6], 677: [6, 7, 7], 678: [6, 7, 8], 679: [6, 7, 9], 680: [6, 8, 0], 681: [6, 8, 1], 682: [6, 8, 2], 683: [6, 8, 3], 684: [6, 8, 4], 685: [6, 8, 5], 686: [6, 8, 6], 687: [6, 8, 7], 688: [6, 8, 8], 689: [6, 8, 9], 690: [6, 9, 0], 691: [6, 9, 1], 692: [6, 9, 2], 693: [6, 9, 3], 694: [6, 9, 4], 695: [6, 9, 5], 696: [6, 9, 6], 697: [6, 9, 7], 698: [6, 9, 8], 699: [6, 9, 9], 700: [7, 0, 0], 701: [7, 0, 1], 702: [7, 0, 2], 703: [7, 0, 3], 704: [7, 0, 4], 705: [7, 0, 5], 706: [7, 0, 6], 707: [7, 0, 7], 708: [7, 0, 8], 709: [7, 0, 9], 710: [7, 1, 0], 711: [7, 1, 1], 712: [7, 1, 2], 713: [7, 1, 3], 714: [7, 1, 4], 715: [7, 1, 5], 716: [7, 1, 6], 717: [7, 1, 7], 718: [7, 1, 8], 719: [7, 1, 9], 720: [7, 2, 0], 721: [7, 2, 1], 722: [7, 2, 2], 723: [7, 2, 3], 724: [7, 2, 4], 725: [7, 2, 5], 726: [7, 2, 6], 727: [7, 2, 7], 728: [7, 2, 8], 729: [7, 2, 9], 730: [7, 3, 0], 731: [7, 3, 1], 732: [7, 3, 2], 733: [7, 3, 3], 734: [7, 3, 4], 735: [7, 3, 5], 736: [7, 3, 6], 737: [7, 3, 7], 738: [7, 3, 8], 739: [7, 3, 9], 740: [7, 4, 0], 741: [7, 4, 1], 742: [7, 4, 2], 743: [7, 4, 3], 744: [7, 4, 4], 745: [7, 4, 5], 746: [7, 4, 6], 747: [7, 4, 7], 748: [7, 4, 8], 749: [7, 4, 9], 750: [7, 5, 0], 751: [7, 5, 1], 752: [7, 5, 2], 753: [7, 5, 3], 754: [7, 5, 4], 755: [7, 5, 5], 756: [7, 5, 6], 757: [7, 5, 7], 758: [7, 5, 8], 759: [7, 5, 9], 760: [7, 6, 0], 761: [7, 6, 1], 762: [7, 6, 2], 763: [7, 6, 3], 764: [7, 6, 4], 765: [7, 6, 5], 766: [7, 6, 6], 767: [7, 6, 7], 768: [7, 6, 8], 769: [7, 6, 9], 770: [7, 7, 0], 771: [7, 7, 1], 772: [7, 7, 2], 773: [7, 7, 3], 774: [7, 7, 4], 775: [7, 7, 5], 776: [7, 7, 6], 777: [7, 7, 7], 778: [7, 7, 8], 779: [7, 7, 9], 780: [7, 8, 0], 781: [7, 8, 1], 782: [7, 8, 2], 783: [7, 8, 3], 784: [7, 8, 4], 785: [7, 8, 5], 786: [7, 8, 6], 787: [7, 8, 7], 788: [7, 8, 8], 789: [7, 8, 9], 790: [7, 9, 0], 791: [7, 9, 1], 792: [7, 9, 2], 793: [7, 9, 3], 794: [7, 9, 4], 795: [7, 9, 5], 796: [7, 9, 6], 797: [7, 9, 7], 798: [7, 9, 8], 799: [7, 9, 9], 800: [8, 0, 0], 801: [8, 0, 1], 802: [8, 0, 2], 803: [8, 0, 3], 804: [8, 0, 4], 805: [8, 0, 5], 806: [8, 0, 6], 807: [8, 0, 7], 808: [8, 0, 8], 809: [8, 0, 9], 810: [8, 1, 0], 811: [8, 1, 1], 812: [8, 1, 2], 813: [8, 1, 3], 814: [8, 1, 4], 815: [8, 1, 5], 816: [8, 1, 6], 817: [8, 1, 7], 818: [8, 1, 8], 819: [8, 1, 9], 820: [8, 2, 0], 821: [8, 2, 1], 822: [8, 2, 2], 823: [8, 2, 3], 824: [8, 2, 4], 825: [8, 2, 5], 826: [8, 2, 6], 827: [8, 2, 7], 828: [8, 2, 8], 829: [8, 2, 9], 830: [8, 3, 0], 831: [8, 3, 1], 832: [8, 3, 2], 833: [8, 3, 3], 834: [8, 3, 4], 835: [8, 3, 5], 836: [8, 3, 6], 837: [8, 3, 7], 838: [8, 3, 8], 839: [8, 3, 9], 840: [8, 4, 0], 841: [8, 4, 1], 842: [8, 4, 2], 843: [8, 4, 3], 844: [8, 4, 4], 845: [8, 4, 5], 846: [8, 4, 6], 847: [8, 4, 7], 848: [8, 4, 8], 849: [8, 4, 9], 850: [8, 5, 0], 851: [8, 5, 1], 852: [8, 5, 2], 853: [8, 5, 3], 854: [8, 5, 4], 855: [8, 5, 5], 856: [8, 5, 6], 857: [8, 5, 7], 858: [8, 5, 8], 859: [8, 5, 9], 860: [8, 6, 0], 861: [8, 6, 1], 862: [8, 6, 2], 863: [8, 6, 3], 864: [8, 6, 4], 865: [8, 6, 5], 866: [8, 6, 6], 867: [8, 6, 7], 868: [8, 6, 8], 869: [8, 6, 9], 870: [8, 7, 0], 871: [8, 7, 1], 872: [8, 7, 2], 873: [8, 7, 3], 874: [8, 7, 4], 875: [8, 7, 5], 876: [8, 7, 6], 877: [8, 7, 7], 878: [8, 7, 8], 879: [8, 7, 9], 880: [8, 8, 0], 881: [8, 8, 1], 882: [8, 8, 2], 883: [8, 8, 3], 884: [8, 8, 4], 885: [8, 8, 5], 886: [8, 8, 6], 887: [8, 8, 7], 888: [8, 8, 8], 889: [8, 8, 9], 890: [8, 9, 0], 891: [8, 9, 1], 892: [8, 9, 2], 893: [8, 9, 3], 894: [8, 9, 4], 895: [8, 9, 5], 896: [8, 9, 6], 897: [8, 9, 7], 898: [8, 9, 8], 899: [8, 9, 9], 900: [9, 0, 0], 901: [9, 0, 1], 902: [9, 0, 2], 903: [9, 0, 3], 904: [9, 0, 4], 905: [9, 0, 5], 906: [9, 0, 6], 907: [9, 0, 7], 908: [9, 0, 8], 909: [9, 0, 9], 910: [9, 1, 0], 911: [9, 1, 1], 912: [9, 1, 2], 913: [9, 1, 3], 914: [9, 1, 4], 915: [9, 1, 5], 916: [9, 1, 6], 917: [9, 1, 7], 918: [9, 1, 8], 919: [9, 1, 9], 920: [9, 2, 0], 921: [9, 2, 1], 922: [9, 2, 2], 923: [9, 2, 3], 924: [9, 2, 4], 925: [9, 2, 5], 926: [9, 2, 6], 927: [9, 2, 7], 928: [9, 2, 8], 929: [9, 2, 9], 930: [9, 3, 0], 931: [9, 3, 1], 932: [9, 3, 2], 933: [9, 3, 3], 934: [9, 3, 4], 935: [9, 3, 5], 936: [9, 3, 6], 937: [9, 3, 7], 938: [9, 3, 8], 939: [9, 3, 9], 940: [9, 4, 0], 941: [9, 4, 1], 942: [9, 4, 2], 943: [9, 4, 3], 944: [9, 4, 4], 945: [9, 4, 5], 946: [9, 4, 6], 947: [9, 4, 7], 948: [9, 4, 8], 949: [9, 4, 9], 950: [9, 5, 0], 951: [9, 5, 1], 952: [9, 5, 2], 953: [9, 5, 3], 954: [9, 5, 4], 955: [9, 5, 5], 956: [9, 5, 6], 957: [9, 5, 7], 958: [9, 5, 8], 959: [9, 5, 9], 960: [9, 6, 0], 961: [9, 6, 1], 962: [9, 6, 2], 963: [9, 6, 3], 964: [9, 6, 4], 965: [9, 6, 5], 966: [9, 6, 6], 967: [9, 6, 7], 968: [9, 6, 8], 969: [9, 6, 9], 970: [9, 7, 0], 971: [9, 7, 1], 972: [9, 7, 2], 973: [9, 7, 3], 974: [9, 7, 4], 975: [9, 7, 5], 976: [9, 7, 6], 977: [9, 7, 7], 978: [9, 7, 8], 979: [9, 7, 9], 980: [9, 8, 0], 981: [9, 8, 1], 982: [9, 8, 2], 983: [9, 8, 3], 984: [9, 8, 4], 985: [9, 8, 5], 986: [9, 8, 6], 987: [9, 8, 7], 988: [9, 8, 8], 989: [9, 8, 9], 990: [9, 9, 0], 991: [9, 9, 1], 992: [9, 9, 2], 993: [9, 9, 3], 994: [9, 9, 4], 995: [9, 9, 5], 996: [9, 9, 6], 997: [9, 9, 7], 998: [9, 9, 8], 999: [9, 9, 9]}\n"
     ]
    }
   ],
   "source": [
    "base = 10\n",
    "digits = set(range(base))\n",
    "n_pos = 3\n",
    "out = {k:[k % base**(x + 1) // (base**x) for x in range(n_pos-1,-1,-1)] for k in range(1000)}\n",
    "print(out)"
   ]
  },
  {
   "attachments": {},
   "cell_type": "markdown",
   "metadata": {},
   "source": [
    "Task 0.5.26: Suppose `d` is a dictionary that maps some employee IDs (a subset of the\n",
    "integers from 0 to n - 1) to salaries. Suppose L is an n-element list whose i th element is\n",
    "the name of employee number i. Your goal is to write a comprehension whose value is a\n",
    "dictionary mapping employee names to salaries. You can assume that employee names are\n",
    "distinct. However, not every employee ID is represented in d.\n",
    "Test your comprehension with the following data:\n",
    "```\n",
    "id2salary = {0:1000.0, 3:990, 1:1200.50}\n",
    "names = ['Larry', 'Curly', '', 'Moe']\n",
    "```"
   ]
  },
  {
   "cell_type": "code",
   "execution_count": 94,
   "metadata": {},
   "outputs": [
    {
     "name": "stdout",
     "output_type": "stream",
     "text": [
      "{'Larry': 1000.0, 'Moe': 990, 'Curly': 1200.5}\n",
      "{'Larry': 1000.0, 'Curly': 1200.5, '': 0, 'Moe': 990}\n"
     ]
    }
   ],
   "source": [
    "id2salary = {0:1000.0, 3:990, 1:1200.50}\n",
    "names = ['Larry', 'Curly', '', 'Moe']\n",
    "\n",
    "# first approach\n",
    "out = {names[i]:salary for i,salary in id2salary.items()}\n",
    "print(out)\n",
    "\n",
    "# 2nd approach\n",
    "out2 = {names[i]:id2salary[i] if i in id2salary else 0 for i in range(len(names))}\n",
    "print(out2)"
   ]
  },
  {
   "attachments": {},
   "cell_type": "markdown",
   "metadata": {},
   "source": [
    "Task 0.5.27: Try entering the definition of twice(z). After you enter the definition, you\n",
    "will see the ellipsis. Just press enter. Next, try invoking the procedure on some actual\n",
    "arguments. Just for fun, try strings or lists. Finally, verify that the variable z is now not\n",
    "bound to any value by asking Python to evaluate the expression consisting of z."
   ]
  },
  {
   "cell_type": "code",
   "execution_count": 102,
   "metadata": {},
   "outputs": [
    {
     "name": "stdout",
     "output_type": "stream",
     "text": [
      "6\n",
      "hellohello\n",
      "[1, 2, 3, 1, 2, 3]\n",
      "0\n"
     ]
    }
   ],
   "source": [
    "def twice(z): return 2*z\n",
    "\n",
    "z=0\n",
    "print(twice(3))\n",
    "print(twice('hello'))\n",
    "print(twice([1,2,3]))\n",
    "print(z)"
   ]
  },
  {
   "attachments": {},
   "cell_type": "markdown",
   "metadata": {},
   "source": [
    "Task 0.5.28: Define a one-line procedure nextInts(L) specified as follows:\n",
    "\n",
    "- input: list L of integers\n",
    "- output: list of integers whose i th element is one more than the i th element of L\n",
    "- example: input [1, 5, 7], output [2, 6, 8]."
   ]
  },
  {
   "cell_type": "code",
   "execution_count": 104,
   "metadata": {},
   "outputs": [
    {
     "name": "stdout",
     "output_type": "stream",
     "text": [
      "[2, 6, 8]\n"
     ]
    }
   ],
   "source": [
    "def nextInts(L): return [x + 1 for x in L]\n",
    "print(nextInts([1,5,7]))"
   ]
  },
  {
   "attachments": {},
   "cell_type": "markdown",
   "metadata": {},
   "source": [
    "Task 0.5.29: Define a one-line procedure `cubes(L)` specified as follows:\n",
    "- input: list L of numbers\n",
    "- output: list of numbers whose i th element is the cube of the i th element of L\n",
    "- example: input [1, 2, 3], output [1, 8, 27].\n"
   ]
  },
  {
   "cell_type": "code",
   "execution_count": 108,
   "metadata": {},
   "outputs": [
    {
     "name": "stdout",
     "output_type": "stream",
     "text": [
      "[1, 8, 27]\n"
     ]
    }
   ],
   "source": [
    "def cubes(L): return list(map(lambda x: x **3, L))\n",
    "print(cubes([1,2,3]))"
   ]
  },
  {
   "attachments": {},
   "cell_type": "markdown",
   "metadata": {},
   "source": [
    "\n",
    "Task 0.5.30: Define a one-line procedure `dict2list(dct,keylist)` with this spec:\n",
    "- input: dictionary dct, list keylist consisting of the keys of dct\n",
    "- output: list L such that `L[i] = dct[keylist[i]]` for `i = 0, 1, 2, . . . , len(keylist) - 1`\n",
    "- example: input `dct={'a':'A', 'b':'B', 'c':'C'}` and `keylist=['b','c','a']`, output ['B', 'C', 'A']\n"
   ]
  },
  {
   "cell_type": "code",
   "execution_count": 109,
   "metadata": {},
   "outputs": [
    {
     "name": "stdout",
     "output_type": "stream",
     "text": [
      "['B', 'C', 'A']\n"
     ]
    }
   ],
   "source": [
    "def dict2list(dct, keylist): return [dct[k] for k in keylist]\n",
    "\n",
    "dct={'a':'A', 'b':'B', 'c':'C'}\n",
    "keylist=['b','c','a']\n",
    "a = dict2list(dct,keylist)\n",
    "print(a)"
   ]
  },
  {
   "attachments": {},
   "cell_type": "markdown",
   "metadata": {},
   "source": [
    "\n",
    "Task 0.5.31: Define a one-line procedure `list2dict(L, keylist)` specified as follows:\n",
    "- input: list L, list keylist of immutable items\n",
    "- output: dictionary that maps `keylist[i]` to `L[i]` for `i = 0, 1, 2, . . . , len(L) - 1`\n",
    "- example: input L=[’A’,’B’,’C’] and keylist=[’a’,’b’,’c’],\n",
    "output {'a':'A', 'b':'B', 'c':'C'}\n",
    "Hint: Use a comprehension that iterates over a zip or a range."
   ]
  },
  {
   "cell_type": "code",
   "execution_count": 111,
   "metadata": {},
   "outputs": [
    {
     "name": "stdout",
     "output_type": "stream",
     "text": [
      "{'a': 'A', 'b': 'B', 'c': 'C'}\n"
     ]
    }
   ],
   "source": [
    "def list2dict(L, keylist): return {k:v for (k, v) in zip(keylist, L)}\n",
    "\n",
    "L=['A','B','C']\n",
    "keylist=['a','b','c']\n",
    "\n",
    "a = list2dict(L, keylist)\n",
    "print(a)"
   ]
  },
  {
   "attachments": {},
   "cell_type": "markdown",
   "metadata": {},
   "source": [
    "Task 0.5.32: Write a procedure all `3_digit_numbers(base, digits)` with the following spec:\n",
    "- input: a positive integer base and the set *digits* which should be `{0, 1, 2, . . . , base - 1}`.\n",
    "- output: the set of all three-digit numbers where the base is base\n",
    "\n",
    "For example,\n",
    "\n",
    ">>> all_3_digit_numbers(2, {0,1})\n",
    "```\n",
    "{0, 1, 2, 3, 4, 5, 6, 7}\n",
    "```\n",
    "\n",
    ">>> all_3_digit_numbers(3, {0,1,2})\n",
    "```\n",
    "{0, 1, 2, 3, 4, 5, 6, 7, 8, 9, 10, 11, 12, 13, 14, 15, 16, 17, 18,\n",
    "19, 20, 21, 22, 23, 24, 25, 26}\n",
    "```\n",
    ">>> all_3_digit_numbers(10, {0,1,2,3,4,5,6,7,8,9})\n",
    "```\n",
    "{0, 1, 2, 3, 4, 5, 6, 7, 8, 9, 10, 11, 12, 13, 14, 15, 16, 17, 18,\n",
    "19, 20, 21, 22, 23, 24, 25, 26, 27, 28, 29, 30, 31, 32, 33, 34, 35,\n",
    "...\n",
    "985, 986, 987, 988, 989, 990, 991, 992, 993, 994, 995, 996, 997, 998, 999}\n",
    "```"
   ]
  },
  {
   "cell_type": "code",
   "execution_count": 117,
   "metadata": {},
   "outputs": [
    {
     "name": "stdout",
     "output_type": "stream",
     "text": [
      "{0, 1, 2, 3, 4, 5, 6, 7}\n",
      "{0, 1, 2, 3, 4, 5, 6, 7, 8, 9, 10, 11, 12, 13, 14, 15, 16, 17, 18, 19, 20, 21, 22, 23, 24, 25, 26}\n",
      "{0, 1, 2, 3, 4, 5, 6, 7, 8, 9, 10, 11, 12, 13, 14, 15, 16, 17, 18, 19, 20, 21, 22, 23, 24, 25, 26, 27, 28, 29, 30, 31, 32, 33, 34, 35, 36, 37, 38, 39, 40, 41, 42, 43, 44, 45, 46, 47, 48, 49, 50, 51, 52, 53, 54, 55, 56, 57, 58, 59, 60, 61, 62, 63, 64, 65, 66, 67, 68, 69, 70, 71, 72, 73, 74, 75, 76, 77, 78, 79, 80, 81, 82, 83, 84, 85, 86, 87, 88, 89, 90, 91, 92, 93, 94, 95, 96, 97, 98, 99, 100, 101, 102, 103, 104, 105, 106, 107, 108, 109, 110, 111, 112, 113, 114, 115, 116, 117, 118, 119, 120, 121, 122, 123, 124, 125, 126, 127, 128, 129, 130, 131, 132, 133, 134, 135, 136, 137, 138, 139, 140, 141, 142, 143, 144, 145, 146, 147, 148, 149, 150, 151, 152, 153, 154, 155, 156, 157, 158, 159, 160, 161, 162, 163, 164, 165, 166, 167, 168, 169, 170, 171, 172, 173, 174, 175, 176, 177, 178, 179, 180, 181, 182, 183, 184, 185, 186, 187, 188, 189, 190, 191, 192, 193, 194, 195, 196, 197, 198, 199, 200, 201, 202, 203, 204, 205, 206, 207, 208, 209, 210, 211, 212, 213, 214, 215, 216, 217, 218, 219, 220, 221, 222, 223, 224, 225, 226, 227, 228, 229, 230, 231, 232, 233, 234, 235, 236, 237, 238, 239, 240, 241, 242, 243, 244, 245, 246, 247, 248, 249, 250, 251, 252, 253, 254, 255, 256, 257, 258, 259, 260, 261, 262, 263, 264, 265, 266, 267, 268, 269, 270, 271, 272, 273, 274, 275, 276, 277, 278, 279, 280, 281, 282, 283, 284, 285, 286, 287, 288, 289, 290, 291, 292, 293, 294, 295, 296, 297, 298, 299, 300, 301, 302, 303, 304, 305, 306, 307, 308, 309, 310, 311, 312, 313, 314, 315, 316, 317, 318, 319, 320, 321, 322, 323, 324, 325, 326, 327, 328, 329, 330, 331, 332, 333, 334, 335, 336, 337, 338, 339, 340, 341, 342, 343, 344, 345, 346, 347, 348, 349, 350, 351, 352, 353, 354, 355, 356, 357, 358, 359, 360, 361, 362, 363, 364, 365, 366, 367, 368, 369, 370, 371, 372, 373, 374, 375, 376, 377, 378, 379, 380, 381, 382, 383, 384, 385, 386, 387, 388, 389, 390, 391, 392, 393, 394, 395, 396, 397, 398, 399, 400, 401, 402, 403, 404, 405, 406, 407, 408, 409, 410, 411, 412, 413, 414, 415, 416, 417, 418, 419, 420, 421, 422, 423, 424, 425, 426, 427, 428, 429, 430, 431, 432, 433, 434, 435, 436, 437, 438, 439, 440, 441, 442, 443, 444, 445, 446, 447, 448, 449, 450, 451, 452, 453, 454, 455, 456, 457, 458, 459, 460, 461, 462, 463, 464, 465, 466, 467, 468, 469, 470, 471, 472, 473, 474, 475, 476, 477, 478, 479, 480, 481, 482, 483, 484, 485, 486, 487, 488, 489, 490, 491, 492, 493, 494, 495, 496, 497, 498, 499, 500, 501, 502, 503, 504, 505, 506, 507, 508, 509, 510, 511, 512, 513, 514, 515, 516, 517, 518, 519, 520, 521, 522, 523, 524, 525, 526, 527, 528, 529, 530, 531, 532, 533, 534, 535, 536, 537, 538, 539, 540, 541, 542, 543, 544, 545, 546, 547, 548, 549, 550, 551, 552, 553, 554, 555, 556, 557, 558, 559, 560, 561, 562, 563, 564, 565, 566, 567, 568, 569, 570, 571, 572, 573, 574, 575, 576, 577, 578, 579, 580, 581, 582, 583, 584, 585, 586, 587, 588, 589, 590, 591, 592, 593, 594, 595, 596, 597, 598, 599, 600, 601, 602, 603, 604, 605, 606, 607, 608, 609, 610, 611, 612, 613, 614, 615, 616, 617, 618, 619, 620, 621, 622, 623, 624, 625, 626, 627, 628, 629, 630, 631, 632, 633, 634, 635, 636, 637, 638, 639, 640, 641, 642, 643, 644, 645, 646, 647, 648, 649, 650, 651, 652, 653, 654, 655, 656, 657, 658, 659, 660, 661, 662, 663, 664, 665, 666, 667, 668, 669, 670, 671, 672, 673, 674, 675, 676, 677, 678, 679, 680, 681, 682, 683, 684, 685, 686, 687, 688, 689, 690, 691, 692, 693, 694, 695, 696, 697, 698, 699, 700, 701, 702, 703, 704, 705, 706, 707, 708, 709, 710, 711, 712, 713, 714, 715, 716, 717, 718, 719, 720, 721, 722, 723, 724, 725, 726, 727, 728, 729, 730, 731, 732, 733, 734, 735, 736, 737, 738, 739, 740, 741, 742, 743, 744, 745, 746, 747, 748, 749, 750, 751, 752, 753, 754, 755, 756, 757, 758, 759, 760, 761, 762, 763, 764, 765, 766, 767, 768, 769, 770, 771, 772, 773, 774, 775, 776, 777, 778, 779, 780, 781, 782, 783, 784, 785, 786, 787, 788, 789, 790, 791, 792, 793, 794, 795, 796, 797, 798, 799, 800, 801, 802, 803, 804, 805, 806, 807, 808, 809, 810, 811, 812, 813, 814, 815, 816, 817, 818, 819, 820, 821, 822, 823, 824, 825, 826, 827, 828, 829, 830, 831, 832, 833, 834, 835, 836, 837, 838, 839, 840, 841, 842, 843, 844, 845, 846, 847, 848, 849, 850, 851, 852, 853, 854, 855, 856, 857, 858, 859, 860, 861, 862, 863, 864, 865, 866, 867, 868, 869, 870, 871, 872, 873, 874, 875, 876, 877, 878, 879, 880, 881, 882, 883, 884, 885, 886, 887, 888, 889, 890, 891, 892, 893, 894, 895, 896, 897, 898, 899, 900, 901, 902, 903, 904, 905, 906, 907, 908, 909, 910, 911, 912, 913, 914, 915, 916, 917, 918, 919, 920, 921, 922, 923, 924, 925, 926, 927, 928, 929, 930, 931, 932, 933, 934, 935, 936, 937, 938, 939, 940, 941, 942, 943, 944, 945, 946, 947, 948, 949, 950, 951, 952, 953, 954, 955, 956, 957, 958, 959, 960, 961, 962, 963, 964, 965, 966, 967, 968, 969, 970, 971, 972, 973, 974, 975, 976, 977, 978, 979, 980, 981, 982, 983, 984, 985, 986, 987, 988, 989, 990, 991, 992, 993, 994, 995, 996, 997, 998, 999}\n"
     ]
    }
   ],
   "source": [
    "def all_3_digit_numbers(base, digits): return {x for x in range(base**(3))}\n",
    "\n",
    "a = all_3_digit_numbers(2,{0,1})\n",
    "print(a)\n",
    "\n",
    "a = all_3_digit_numbers(3,{0,1,2})\n",
    "print(a)\n",
    "\n",
    "a = all_3_digit_numbers(10,{0,1,2,3,4,5,6,7,8,9})\n",
    "print(a)"
   ]
  }
 ],
 "metadata": {
  "kernelspec": {
   "display_name": "ctm",
   "language": "python",
   "name": "python3"
  },
  "language_info": {
   "codemirror_mode": {
    "name": "ipython",
    "version": 3
   },
   "file_extension": ".py",
   "mimetype": "text/x-python",
   "name": "python",
   "nbconvert_exporter": "python",
   "pygments_lexer": "ipython3",
   "version": "3.10.9"
  },
  "orig_nbformat": 4
 },
 "nbformat": 4,
 "nbformat_minor": 2
}
